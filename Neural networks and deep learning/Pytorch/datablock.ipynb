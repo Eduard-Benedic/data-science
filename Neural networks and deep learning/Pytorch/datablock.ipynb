{
 "cells": [
  {
   "cell_type": "code",
   "execution_count": null,
   "metadata": {},
   "outputs": [],
   "source": [
    "!pip install -Uqq fastbook\n",
    "!pip install -Uq fastai"
   ]
  },
  {
   "cell_type": "code",
   "execution_count": null,
   "metadata": {},
   "outputs": [],
   "source": [
    "from fastbook import *\n",
    "\n",
    "path = untar_data(URLs.PASCAL_2007)\n",
    "\n",
    "df = pd.read_csv(path/'train.csv')\n",
    "\n",
    "def get_x(r): return path/'train'/r['fname']\n",
    "def get_y(r): return r['labels'].split(' ')\n",
    "def splitter(df):\n",
    "  train = df.index[~df['is_valid']].tolist()\n",
    "  valid = df.index[df['is_valid']].tolist()\n",
    "  return train, valid\n",
    "\n",
    "dblock = DataBlock(\n",
    "    blocks=(ImageBlock, MultiCategoryBlock),\n",
    "    splitter=splitter,\n",
    "    get_x = get_x,\n",
    "    get_y = get_y,\n",
    "    item_tfms=RandomResizedCrop(128, min_scale=0.35)\n",
    "    )\n",
    "\n",
    "dls = dblock.dataloaders(df)\n"
   ]
  }
 ],
 "metadata": {
  "language_info": {
   "name": "python"
  },
  "orig_nbformat": 4
 },
 "nbformat": 4,
 "nbformat_minor": 2
}
