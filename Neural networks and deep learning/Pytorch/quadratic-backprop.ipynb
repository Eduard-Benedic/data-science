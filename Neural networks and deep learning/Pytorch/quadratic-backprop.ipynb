{
 "cells": [
  {
   "cell_type": "code",
   "execution_count": null,
   "metadata": {},
   "outputs": [],
   "source": [
    "# Run this in google colab\n",
    "!pip install -Uqq fastbook\n",
    "!pip install -Uq fastai"
   ]
  },
  {
   "cell_type": "code",
   "execution_count": null,
   "metadata": {},
   "outputs": [],
   "source": [
    "# \n",
    "\n",
    "time = torch.arange(0, 20).float()\n",
    "speed = (time-9.5)**2\n",
    "\n",
    "def f(t, params):\n",
    "  a,b,c = params\n",
    "  return a*(t**2) + (b*t) + c\n",
    "\n",
    "def mse(preds, targets): return ((preds - targets)**2).mean()\n",
    "\n",
    "params = torch.randn(3).float().requires_grad_()\n",
    "\n",
    "def show_preds(preds, ax=None):\n",
    "  if ax is None: ax = plt.subplots()[1]\n",
    "  ax.scatter(time, speed)\n",
    "  ax.scatter(time, to_np(preds), color='red')\n",
    "  ax.set_ylim(-300, 300)\n",
    "  ax.set_xlim(-30, 30)\n",
    "\n",
    "lr = 1e-5\n",
    "def apply_step(params, prn=True):\n",
    "  preds = f(time, params)\n",
    "  loss = mse(preds, speed)\n",
    "  loss.backward()\n",
    "  params.data -= lr * params.grad\n",
    "  params.grad = None\n",
    "  if prn: print(loss.item())\n",
    "  return preds\n",
    "\n",
    "for i in range(100):\n",
    "  apply_step(params, False)\n",
    "\n",
    "optimized_preds = f(time, params)\n",
    "show_preds(optimized_preds)"
   ]
  }
 ],
 "metadata": {
  "language_info": {
   "name": "python"
  },
  "orig_nbformat": 4
 },
 "nbformat": 4,
 "nbformat_minor": 2
}
