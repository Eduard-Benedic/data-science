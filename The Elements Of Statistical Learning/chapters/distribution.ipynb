{
 "cells": [
  {
   "cell_type": "code",
   "execution_count": 42,
   "metadata": {},
   "outputs": [
    {
     "data": {
      "image/png": "[encoded data removed]",
      "text/plain": [
       "<Figure size 432x288 with 1 Axes>"
      ]
     },
     "metadata": {
      "needs_background": "light"
     },
     "output_type": "display_data"
    }
   ],
   "source": [
    "import numpy as np\n",
    "import matplotlib.pyplot as plt\n",
    "\n",
    "np.random.seed()\n",
    "\n",
    "n_flips = 10\n",
    "p = 0.5\n",
    "\n",
    "flips = np.random.binomial(n = n_flips, p = p, size = 10)\n",
    "\n",
    "nval, bins, patches = plt.hist(flips / n_flips, np.arange(-0.05, 1.05, 0.1))\n"
   ]
  }
 ],
 "metadata": {
  "interpreter": {
   "hash": "37229085c05107bf3fef04529a708b7ca0992a74d578c9c1a5b8eeb9cc4bc8cb"
  },
  "kernelspec": {
   "display_name": "Python 3.8.8 64-bit ('base': conda)",
   "language": "python",
   "name": "python3"
  },
  "language_info": {
   "codemirror_mode": {
    "name": "ipython",
    "version": 3
   },
   "file_extension": ".py",
   "mimetype": "text/x-python",
   "name": "python",
   "nbconvert_exporter": "python",
   "pygments_lexer": "ipython3",
   "version": "3.8.8"
  },
  "orig_nbformat": 4
 },
 "nbformat": 4,
 "nbformat_minor": 2
}
